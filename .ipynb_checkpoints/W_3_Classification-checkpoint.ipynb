{
 "cells": [
  {
   "cell_type": "code",
   "execution_count": 64,
   "id": "fa0feb03",
   "metadata": {},
   "outputs": [],
   "source": [
    "#importing necessary libraries\n",
    "import pandas as pd\n",
    "import numpy as np\n",
    "from sklearn.linear_model import LogisticRegression\n",
    "from sklearn.model_selection import train_test_split\n",
    "from sklearn.metrics import classification_report, confusion_matrix\n",
    "from sklearn.naive_bayes import GaussianNB\n",
    "from sklearn.discriminant_analysis import LinearDiscriminantAnalysis\n",
    "from sklearn.discriminant_analysis import QuadraticDiscriminantAnalysis \n",
    "from sklearn import svm\n",
    "from sklearn.metrics import accuracy_score\n",
    "import matplotlib.pyplot as plt"
   ]
  },
  {
   "cell_type": "code",
   "execution_count": 65,
   "id": "a60be475",
   "metadata": {},
   "outputs": [],
   "source": [
    "#setting seed\n",
    "np.random.seed(100)\n",
    "\n",
    "#importing credit data as a pandas dataframe\n",
    "obesity = pd.read_csv('ObesityDataSet_raw_and_data_sinthetic.csv')\n",
    "\n",
    "#setting up dummy variables for categorical variables\n",
    "Gender = pd.get_dummies(obesity['Gender'])\n",
    "History = pd.get_dummies(obesity['family_history_with_overweight'])\n",
    "FAVC = pd.get_dummies(obesity['FAVC'])\n",
    "CAEC = pd.get_dummies(obesity['CAEC'])\n",
    "SMOKE = pd.get_dummies(obesity['SMOKE'])\n",
    "SCC = pd.get_dummies(obesity['SCC'])\n",
    "CALC = pd.get_dummies(obesity['CALC'])\n",
    "MTRANS = pd.get_dummies(obesity['MTRANS'])\n",
    "obesity = pd.concat([obesity, Gender, History, FAVC, CAEC, SMOKE, SCC, CALC, MTRANS], axis = 1)\n",
    "obesity.drop(['Gender', 'Male', 'family_history_with_overweight', 'no', 'FAVC', 'CAEC', 'SMOKE', 'SCC', 'CALC', 'MTRANS', 'Walking'], inplace=True, axis=1)\n",
    "\n",
    "#extracting a stratified random sample for train and test data\n",
    "X_train, X_test, y_train, y_test = train_test_split(obesity.loc[:, obesity.columns !='NObeyesdad'], obesity['NObeyesdad'], test_size=0.2, stratify=obesity['NObeyesdad'])"
   ]
  },
  {
   "cell_type": "code",
   "execution_count": 66,
   "id": "7a64a258",
   "metadata": {},
   "outputs": [
    {
     "name": "stdout",
     "output_type": "stream",
     "text": [
      "Logistic regression:\n",
      "Confusion Matrix:\n",
      "[[51  3  0  0  0  0  0]\n",
      " [ 9 38  0  0  0 10  1]\n",
      " [ 0  0 54  5  2  1  8]\n",
      " [ 0  0  0 59  1  0  0]\n",
      " [ 0  0  0  1 64  0  0]\n",
      " [ 0  7  4  0  0 38  9]\n",
      " [ 0  0 12  0  1 12 33]]\n",
      "Error rate: 0.20330969267139476\n"
     ]
    },
    {
     "name": "stderr",
     "output_type": "stream",
     "text": [
      "/Users/crorick/anaconda3/lib/python3.10/site-packages/sklearn/linear_model/_logistic.py:458: ConvergenceWarning: lbfgs failed to converge (status=1):\n",
      "STOP: TOTAL NO. of ITERATIONS REACHED LIMIT.\n",
      "\n",
      "Increase the number of iterations (max_iter) or scale the data as shown in:\n",
      "    https://scikit-learn.org/stable/modules/preprocessing.html\n",
      "Please also refer to the documentation for alternative solver options:\n",
      "    https://scikit-learn.org/stable/modules/linear_model.html#logistic-regression\n",
      "  n_iter_i = _check_optimize_result(\n"
     ]
    }
   ],
   "source": [
    "#setting up logistic regression model\n",
    "model = LogisticRegression(solver='lbfgs', multi_class = 'multinomial', max_iter=1000)\n",
    "\n",
    "#fitting model with data\n",
    "model.fit(X_train, y_train)\n",
    "\n",
    "#printing confusion matrix of model \n",
    "print('Logistic regression:')\n",
    "print('Confusion Matrix:')\n",
    "print(confusion_matrix(y_test, model.predict(X_test)))\n",
    "\n",
    "#printing accuracy rate of predictions\n",
    "print(f'Error rate: {1-accuracy_score(y_test, model.predict(X_test))}')"
   ]
  },
  {
   "cell_type": "code",
   "execution_count": 67,
   "id": "27b50520",
   "metadata": {},
   "outputs": [
    {
     "name": "stdout",
     "output_type": "stream",
     "text": [
      "Naive Bayes:\n",
      "Confusion Matrix:\n",
      "[[51  2  1  0  0  0  0]\n",
      " [34 17  3  0  0  2  2]\n",
      " [ 0  4 33 29  0  0  4]\n",
      " [ 0  0  3 55  0  0  2]\n",
      " [ 0  0  0  0 64  0  1]\n",
      " [15  5 20  8  0  1  9]\n",
      " [ 6  2 26 11  0  1 12]]\n",
      "Error rate: 0.4491725768321513\n"
     ]
    }
   ],
   "source": [
    "#setting up naive bayes model\n",
    "model = GaussianNB()\n",
    "\n",
    "#training model\n",
    "model.fit(X_train, y_train)\n",
    "\n",
    "#printing confusion matrix of model \n",
    "print('Naive Bayes:')\n",
    "print('Confusion Matrix:')\n",
    "print(confusion_matrix(y_test, model.predict(X_test)))\n",
    "\n",
    "#printing accuracy rate of predictions\n",
    "print(f'Error rate: {1-accuracy_score(y_test, model.predict(X_test))}')"
   ]
  },
  {
   "cell_type": "code",
   "execution_count": 68,
   "id": "ccc8e5b4",
   "metadata": {},
   "outputs": [
    {
     "name": "stdout",
     "output_type": "stream",
     "text": [
      "LDA:\n",
      "Confusion Matrix:\n",
      "[[52  2  0  0  0  0  0]\n",
      " [11 39  0  0  0  7  1]\n",
      " [ 0  0 68  1  0  0  1]\n",
      " [ 0  0  0 60  0  0  0]\n",
      " [ 0  0  0  0 65  0  0]\n",
      " [ 0  7  0  0  0 43  8]\n",
      " [ 0  0  3  0  0  4 51]]\n",
      "Error rate: 0.1063829787234043\n"
     ]
    }
   ],
   "source": [
    "#setting up naive bayes model\n",
    "model = LinearDiscriminantAnalysis()\n",
    "\n",
    "#training model\n",
    "model.fit(X_train, y_train)\n",
    "\n",
    "#printing confusion matrix of model \n",
    "print('LDA:')\n",
    "print('Confusion Matrix:')\n",
    "print(confusion_matrix(y_test, model.predict(X_test)))\n",
    "\n",
    "#printing accuracy rate of predictions\n",
    "print(f'Error rate: {1-accuracy_score(y_test, model.predict(X_test))}')"
   ]
  },
  {
   "cell_type": "code",
   "execution_count": 69,
   "id": "dd995c30",
   "metadata": {},
   "outputs": [
    {
     "name": "stdout",
     "output_type": "stream",
     "text": [
      "QDA:\n",
      "Confusion Matrix:\n",
      "[[50  4  0  0  0  0  0]\n",
      " [11 40  0  0  0  6  1]\n",
      " [ 0  6 53  8  0  0  3]\n",
      " [ 0  0  2 58  0  0  0]\n",
      " [ 0  0  1  0 64  0  0]\n",
      " [ 0  7  2  0  0 38 11]\n",
      " [ 0  5  3  0  0  1 49]]\n",
      "Error rate: 0.1678486997635934\n"
     ]
    },
    {
     "name": "stderr",
     "output_type": "stream",
     "text": [
      "/Users/crorick/anaconda3/lib/python3.10/site-packages/sklearn/discriminant_analysis.py:926: UserWarning: Variables are collinear\n",
      "  warnings.warn(\"Variables are collinear\")\n"
     ]
    }
   ],
   "source": [
    "#setting up naive bayes model\n",
    "model = QuadraticDiscriminantAnalysis(reg_param=0.001)\n",
    "\n",
    "#training model\n",
    "model.fit(X_train, y_train)\n",
    "\n",
    "#printing confusion matrix of model \n",
    "print('QDA:')\n",
    "print('Confusion Matrix:')\n",
    "print(confusion_matrix(y_test, model.predict(X_test)))\n",
    "\n",
    "#printing accuracy rate of predictions\n",
    "print(f'Error rate: {1-accuracy_score(y_test, model.predict(X_test))}')"
   ]
  },
  {
   "cell_type": "code",
   "execution_count": 70,
   "id": "184a89d1",
   "metadata": {},
   "outputs": [
    {
     "name": "stdout",
     "output_type": "stream",
     "text": [
      "SVM:\n",
      "Confusion Matrix:\n",
      "[[53  1  0  0  0  0  0]\n",
      " [ 9 42  0  0  0  6  1]\n",
      " [ 0  0 60  5  0  0  5]\n",
      " [ 0  0  1 59  0  0  0]\n",
      " [ 0  0  0  1 64  0  0]\n",
      " [ 0  7  1  0  0 46  4]\n",
      " [ 0  0 10  0  0  7 41]]\n",
      "Error rate: 0.1371158392434988\n"
     ]
    }
   ],
   "source": [
    "#Create a svm Classifier\n",
    "model = svm.SVC(kernel='linear') # Linear Kernel\n",
    "\n",
    "#Train the model using the training sets\n",
    "model.fit(X_train, y_train)\n",
    "\n",
    "#printing confusion matrix of model \n",
    "print('SVM:')\n",
    "print('Confusion Matrix:')\n",
    "print(confusion_matrix(y_test, model.predict(X_test)))\n",
    "\n",
    "#printing accuracy rate of predictions\n",
    "print(f'Error rate: {1-accuracy_score(y_test, model.predict(X_test))}')"
   ]
  },
  {
   "cell_type": "code",
   "execution_count": null,
   "id": "f20bdde4",
   "metadata": {},
   "outputs": [],
   "source": []
  },
  {
   "cell_type": "code",
   "execution_count": null,
   "id": "7284958d",
   "metadata": {},
   "outputs": [],
   "source": []
  },
  {
   "cell_type": "code",
   "execution_count": null,
   "id": "2db0272f",
   "metadata": {},
   "outputs": [],
   "source": []
  }
 ],
 "metadata": {
  "kernelspec": {
   "display_name": "Python 3 (ipykernel)",
   "language": "python",
   "name": "python3"
  },
  "language_info": {
   "codemirror_mode": {
    "name": "ipython",
    "version": 3
   },
   "file_extension": ".py",
   "mimetype": "text/x-python",
   "name": "python",
   "nbconvert_exporter": "python",
   "pygments_lexer": "ipython3",
   "version": "3.10.9"
  }
 },
 "nbformat": 4,
 "nbformat_minor": 5
}
